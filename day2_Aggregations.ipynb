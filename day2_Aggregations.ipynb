{
 "cells": [
  {
   "cell_type": "code",
   "execution_count": 0,
   "metadata": {
    "application/vnd.databricks.v1+cell": {
     "cellMetadata": {
      "byteLimit": 2048000,
      "rowLimit": 10000
     },
     "inputWidgets": {},
     "nuid": "97ecf3af-83a2-4aea-8157-c32f4301d801",
     "showTitle": false,
     "tableResultSettingsMap": {},
     "title": ""
    }
   },
   "outputs": [],
   "source": [
    "# - read sample dataset\n",
    "df = spark.read.csv(\"/databricks-datasets/retail-org/customers/customers.csv\",\n",
    "                    header=True, inferSchema=True)\n",
    "\n",
    "df.printSchema()\n",
    "df.show(5)\n",
    "print(\"Row count (sample):\", df.count())\n"
   ]
  },
  {
   "cell_type": "code",
   "execution_count": 0,
   "metadata": {
    "application/vnd.databricks.v1+cell": {
     "cellMetadata": {
      "byteLimit": 2048000,
      "rowLimit": 10000
     },
     "inputWidgets": {},
     "nuid": "f454ec28-c8b8-490d-889d-a9ece446a2d0",
     "showTitle": false,
     "tableResultSettingsMap": {},
     "title": ""
    }
   },
   "outputs": [],
   "source": [
    "# total rows\n",
    "print(\"Row count:\", df.count())\n",
    "\n",
    "# distinct states\n",
    "print(\"Distinct states:\", df.select(\"state\").distinct().count())\n"
   ]
  },
  {
   "cell_type": "code",
   "execution_count": 0,
   "metadata": {
    "application/vnd.databricks.v1+cell": {
     "cellMetadata": {
      "byteLimit": 2048000,
      "rowLimit": 10000
     },
     "inputWidgets": {},
     "nuid": "8afe6d8a-4e75-4bbf-9c47-c593355beeea",
     "showTitle": false,
     "tableResultSettingsMap": {},
     "title": ""
    }
   },
   "outputs": [],
   "source": [
    "from pyspark.sql.functions import avg, max, min, sum\n",
    "\n",
    "df.select(\n",
    "    avg(\"units_purchased\").alias(\"avg_units\"),\n",
    "    max(\"units_purchased\").alias(\"max_units\"),\n",
    "    min(\"units_purchased\").alias(\"min_units\"),\n",
    "    sum(\"units_purchased\").alias(\"total_units\")\n",
    ").show()\n"
   ]
  },
  {
   "cell_type": "code",
   "execution_count": 0,
   "metadata": {
    "application/vnd.databricks.v1+cell": {
     "cellMetadata": {
      "byteLimit": 2048000,
      "rowLimit": 10000
     },
     "inputWidgets": {},
     "nuid": "9799e3eb-f4f3-43ec-948d-bb7331704a98",
     "showTitle": false,
     "tableResultSettingsMap": {},
     "title": ""
    }
   },
   "outputs": [],
   "source": [
    "df.groupBy(\"state\").count().orderBy(\"count\", ascending=False).show(10)\n"
   ]
  },
  {
   "cell_type": "code",
   "execution_count": 0,
   "metadata": {
    "application/vnd.databricks.v1+cell": {
     "cellMetadata": {
      "byteLimit": 2048000,
      "rowLimit": 10000
     },
     "inputWidgets": {},
     "nuid": "8ecd213c-bdd0-46f0-9a56-5a9b63c32649",
     "showTitle": false,
     "tableResultSettingsMap": {},
     "title": ""
    }
   },
   "outputs": [],
   "source": [
    "df.groupBy(\"state\") \\\n",
    "  .agg(avg(\"units_purchased\").alias(\"avg_units\")) \\\n",
    "  .orderBy(\"avg_units\", ascending=False) \\\n",
    "  .show(10)\n"
   ]
  },
  {
   "cell_type": "code",
   "execution_count": 0,
   "metadata": {
    "application/vnd.databricks.v1+cell": {
     "cellMetadata": {
      "byteLimit": 2048000,
      "rowLimit": 10000
     },
     "inputWidgets": {},
     "nuid": "dbfad837-8dcc-4624-baf1-e97665841046",
     "showTitle": false,
     "tableResultSettingsMap": {},
     "title": ""
    }
   },
   "outputs": [],
   "source": [
    "df.groupBy(\"state\", \"city\") \\\n",
    "  .count() \\\n",
    "  .orderBy(\"count\", ascending=False) \\\n",
    "  .show(10)\n"
   ]
  },
  {
   "cell_type": "code",
   "execution_count": 0,
   "metadata": {
    "application/vnd.databricks.v1+cell": {
     "cellMetadata": {
      "byteLimit": 2048000,
      "rowLimit": 10000
     },
     "inputWidgets": {},
     "nuid": "aa7665ea-2b82-4b5b-b90c-49b5352ef731",
     "showTitle": false,
     "tableResultSettingsMap": {},
     "title": ""
    }
   },
   "outputs": [],
   "source": [
    "#multiple aggregations\n",
    "df.groupBy(\"loyalty_segment\").agg(\n",
    "    avg(\"units_purchased\").alias(\"avg_units\"),\n",
    "    sum(\"units_purchased\").alias(\"total_units\")\n",
    ").orderBy(\"avg_units\", ascending=False).show()\n"
   ]
  },
  {
   "cell_type": "code",
   "execution_count": 0,
   "metadata": {
    "application/vnd.databricks.v1+cell": {
     "cellMetadata": {
      "byteLimit": 2048000,
      "rowLimit": 10000
     },
     "inputWidgets": {},
     "nuid": "056d5c57-3024-4b28-b082-f02d4e6ae2b9",
     "showTitle": false,
     "tableResultSettingsMap": {},
     "title": ""
    }
   },
   "outputs": [],
   "source": [
    "#having equivalent\n",
    "from pyspark.sql.functions import col\n",
    "\n",
    "df.groupBy(\"state\").count() \\\n",
    "  .filter(col(\"count\") > 1000) \\\n",
    "  .orderBy(\"count\", ascending=False) \\\n",
    "  .show()\n"
   ]
  },
  {
   "cell_type": "code",
   "execution_count": 0,
   "metadata": {
    "application/vnd.databricks.v1+cell": {
     "cellMetadata": {
      "byteLimit": 2048000,
      "rowLimit": 10000
     },
     "inputWidgets": {},
     "nuid": "06892d16-9418-4693-b6e7-cc8ec7c43e5f",
     "showTitle": false,
     "tableResultSettingsMap": {},
     "title": ""
    }
   },
   "outputs": [],
   "source": [
    "#Top 5 states with the highest average units purchased, also show the total units purchased in those states.\n",
    "\n",
    "df.groupby(\"state\").agg(\n",
    "    avg(\"units_purchased\").alias(\"avg_units\"),\n",
    "    sum(\"units_purchased\").alias(\"total_units\")\n",
    ").orderBy(\"avg_units\",descending=True).show(5)\n"
   ]
  }
 ],
 "metadata": {
  "application/vnd.databricks.v1+notebook": {
   "computePreferences": null,
   "dashboards": [],
   "environmentMetadata": {
    "base_environment": "",
    "environment_version": "3"
   },
   "inputWidgetPreferences": null,
   "language": "python",
   "notebookMetadata": {
    "pythonIndentUnit": 4
   },
   "notebookName": "day2_Aggregations",
   "widgets": {}
  },
  "language_info": {
   "name": "python"
  }
 },
 "nbformat": 4,
 "nbformat_minor": 0
}
