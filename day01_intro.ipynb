{
 "cells": [
  {
   "cell_type": "code",
   "execution_count": 0,
   "metadata": {
    "application/vnd.databricks.v1+cell": {
     "cellMetadata": {
      "byteLimit": 2048000,
      "rowLimit": 10000
     },
     "inputWidgets": {},
     "nuid": "00b9dd10-4032-428c-89d6-9c5247ac71e6",
     "showTitle": false,
     "tableResultSettingsMap": {},
     "title": ""
    }
   },
   "outputs": [],
   "source": [
    "#confirm spark or create one\n",
    "try:\n",
    "    print(\"spark exists. Spark version:\", spark.version)\n",
    "except NameError:\n",
    "    from pyspark.sql import SparkSession\n",
    "    spark = SparkSession.builder.appName(\"pyspark-scaffold-day1\").getOrCreate()\n",
    "    print(\"Created SparkSession. Spark version:\", spark.version)\n"
   ]
  },
  {
   "cell_type": "code",
   "execution_count": 0,
   "metadata": {
    "application/vnd.databricks.v1+cell": {
     "cellMetadata": {
      "byteLimit": 2048000,
      "rowLimit": 10000
     },
     "inputWidgets": {},
     "nuid": "f439ad2e-194f-4ea1-91bf-03f0a8414c42",
     "showTitle": false,
     "tableResultSettingsMap": {},
     "title": ""
    }
   },
   "outputs": [],
   "source": [
    "# - read sample dataset\n",
    "df = spark.read.csv(\"/databricks-datasets/retail-org/customers/customers.csv\",\n",
    "                    header=True, inferSchema=True)\n",
    "\n",
    "df.printSchema()\n",
    "df.show(5)\n",
    "print(\"Row count (sample):\", df.count())\n"
   ]
  },
  {
   "cell_type": "code",
   "execution_count": 0,
   "metadata": {
    "application/vnd.databricks.v1+cell": {
     "cellMetadata": {
      "byteLimit": 2048000,
      "rowLimit": 10000
     },
     "inputWidgets": {},
     "nuid": "bd8820d4-66a1-43fd-9f8c-0565f7e37105",
     "showTitle": false,
     "tableResultSettingsMap": {},
     "title": ""
    }
   },
   "outputs": [],
   "source": [
    "# Show all column names\n",
    "print(df.columns)\n",
    "\n",
    "# Show row count & summary stats for numeric columns\n",
    "#df.describe().show()\n"
   ]
  },
  {
   "cell_type": "code",
   "execution_count": 0,
   "metadata": {
    "application/vnd.databricks.v1+cell": {
     "cellMetadata": {
      "byteLimit": 2048000,
      "rowLimit": 10000
     },
     "inputWidgets": {},
     "nuid": "296383f6-cbfe-4d37-9b65-f3ec2b9db03f",
     "showTitle": false,
     "tableResultSettingsMap": {},
     "title": ""
    }
   },
   "outputs": [],
   "source": [
    "df.select(\"customer_id\", \"customer_name\", \"city\", \"state\").show(5)\n",
    "\n",
    "df2 = df.withColumnRenamed(\"customer_id\", \"cust_id\")\n",
    "df2.select(\"cust_id\", \"customer_name\").show(5)\n"
   ]
  },
  {
   "cell_type": "code",
   "execution_count": 0,
   "metadata": {
    "application/vnd.databricks.v1+cell": {
     "cellMetadata": {
      "byteLimit": 2048000,
      "rowLimit": 10000
     },
     "inputWidgets": {},
     "nuid": "8abaf440-4bab-49d5-8824-869e6442f653",
     "showTitle": false,
     "tableResultSettingsMap": {},
     "title": ""
    }
   },
   "outputs": [],
   "source": [
    "from pyspark.sql.functions import col, length, upper\n",
    "\n",
    "# length of customer name\n",
    "df3 = df.withColumn(\"name_length\", length(col(\"customer_name\")))\n",
    "\n",
    "# uppercase city\n",
    "df3 = df3.withColumn(\"city_upper\", upper(col(\"city\")))\n",
    "\n",
    "df3.select(\"customer_name\", \"city\", \"city_upper\", \"name_length\").show(5)\n"
   ]
  },
  {
   "cell_type": "code",
   "execution_count": 0,
   "metadata": {
    "application/vnd.databricks.v1+cell": {
     "cellMetadata": {
      "byteLimit": 2048000,
      "rowLimit": 10000
     },
     "inputWidgets": {},
     "nuid": "2b477c3a-d294-4f54-9d5e-a098536836c7",
     "showTitle": false,
     "tableResultSettingsMap": {},
     "title": ""
    }
   },
   "outputs": [],
   "source": [
    "# customers from California\n",
    "df.filter(col(\"state\") == \"CA\").show(5)\n",
    "\n",
    "# customers with more than 100 units purchased\n",
    "df.filter(col(\"units_purchased\") > 100).select(\"customer_name\", \"units_purchased\").show(5)\n"
   ]
  },
  {
   "cell_type": "code",
   "execution_count": 0,
   "metadata": {
    "application/vnd.databricks.v1+cell": {
     "cellMetadata": {
      "byteLimit": 2048000,
      "rowLimit": 10000
     },
     "inputWidgets": {},
     "nuid": "d9a378d5-099e-409b-bbbd-20e2ffd6fa79",
     "showTitle": false,
     "tableResultSettingsMap": {},
     "title": ""
    }
   },
   "outputs": [],
   "source": [
    "df.orderBy(col(\"units_purchased\").desc()).select(\"customer_name\", \"units_purchased\").show(10)\n"
   ]
  },
  {
   "cell_type": "code",
   "execution_count": 0,
   "metadata": {
    "application/vnd.databricks.v1+cell": {
     "cellMetadata": {
      "byteLimit": 2048000,
      "rowLimit": 10000
     },
     "inputWidgets": {},
     "nuid": "3d473240-a83e-41db-bff0-ce3cc4f98408",
     "showTitle": false,
     "tableResultSettingsMap": {},
     "title": ""
    }
   },
   "outputs": [],
   "source": [
    "# distinct states\n",
    "df.select(\"state\").distinct().show()\n",
    "\n",
    "# count customers per state\n",
    "df.groupBy(\"state\").count().orderBy(col(\"count\").desc()).show(10)\n"
   ]
  },
  {
   "cell_type": "code",
   "execution_count": 0,
   "metadata": {
    "application/vnd.databricks.v1+cell": {
     "cellMetadata": {
      "byteLimit": 2048000,
      "rowLimit": 10000
     },
     "inputWidgets": {},
     "nuid": "55638e34-6a22-4fe1-bfa6-7b2f7b255bb7",
     "showTitle": false,
     "tableResultSettingsMap": {},
     "title": ""
    }
   },
   "outputs": [],
   "source": [
    "# ensure df is loaded\n",
    "print(\"rows:\", df.count())\n",
    "print(\"columns:\", df.columns)\n"
   ]
  },
  {
   "cell_type": "code",
   "execution_count": 0,
   "metadata": {
    "application/vnd.databricks.v1+cell": {
     "cellMetadata": {
      "byteLimit": 2048000,
      "rowLimit": 10000
     },
     "inputWidgets": {},
     "nuid": "57432da5-3790-4b2a-aa0a-3cde3441cc03",
     "showTitle": false,
     "tableResultSettingsMap": {},
     "title": ""
    }
   },
   "outputs": [],
   "source": [
    "from pyspark.sql.functions import col\n",
    "\n",
    "# check duplicates on join key\n",
    "df.groupBy(\"customer_id\").count().filter(col(\"count\")>1).show(5)\n"
   ]
  },
  {
   "cell_type": "code",
   "execution_count": 0,
   "metadata": {
    "application/vnd.databricks.v1+cell": {
     "cellMetadata": {
      "byteLimit": 2048000,
      "rowLimit": 10000
     },
     "inputWidgets": {},
     "nuid": "19da21db-32ef-4d0d-ba87-9c2d740014d7",
     "showTitle": false,
     "tableResultSettingsMap": {},
     "title": ""
    }
   },
   "outputs": [],
   "source": [
    "# build small dim from distinct loyalty_segment values\n",
    "segments = [r[\"loyalty_segment\"] for r in df.select(\"loyalty_segment\").distinct().collect()]\n",
    "dim_data = [(s, f\"Tier for {s}\") for s in segments]\n",
    "loyalty_dim = spark.createDataFrame(dim_data, [\"loyalty_segment\",\"loyalty_desc\"])\n",
    "loyalty_dim.show()\n"
   ]
  },
  {
   "cell_type": "code",
   "execution_count": 0,
   "metadata": {
    "application/vnd.databricks.v1+cell": {
     "cellMetadata": {
      "byteLimit": 2048000,
      "rowLimit": 10000
     },
     "inputWidgets": {},
     "nuid": "dd921604-cc36-4787-bc75-c6a6c6c55ab5",
     "showTitle": false,
     "tableResultSettingsMap": {},
     "title": ""
    }
   },
   "outputs": [],
   "source": [
    "inner_joined = df.join(loyalty_dim, on=\"loyalty_segment\", how=\"inner\")\n",
    "inner_joined.select(\"customer_id\",\"customer_name\",\"loyalty_segment\",\"loyalty_desc\").show(5)\n",
    "inner_joined\n"
   ]
  },
  {
   "cell_type": "code",
   "execution_count": 0,
   "metadata": {
    "application/vnd.databricks.v1+cell": {
     "cellMetadata": {
      "byteLimit": 2048000,
      "rowLimit": 10000
     },
     "inputWidgets": {},
     "nuid": "87e103fe-8cc9-4800-b12a-4e8382f99315",
     "showTitle": false,
     "tableResultSettingsMap": {},
     "title": ""
    }
   },
   "outputs": [],
   "source": [
    "left_joined = df.join(loyalty_dim, on=\"loyalty_segment\", how=\"left\")\n",
    "left_joined.select(\"customer_id\",\"customer_name\",\"loyalty_segment\",\"loyalty_desc\").show(5)\n"
   ]
  },
  {
   "cell_type": "code",
   "execution_count": 0,
   "metadata": {
    "application/vnd.databricks.v1+cell": {
     "cellMetadata": {
      "byteLimit": 2048000,
      "rowLimit": 10000
     },
     "inputWidgets": {},
     "nuid": "2f6e610e-6a33-4935-af64-8ae97d5bfc10",
     "showTitle": false,
     "tableResultSettingsMap": {},
     "title": ""
    }
   },
   "outputs": [],
   "source": [
    "right_joined = df.join(loyalty_dim, on=\"loyalty_segment\", how=\"right\")\n",
    "right_joined.show(5)\n"
   ]
  },
  {
   "cell_type": "code",
   "execution_count": 0,
   "metadata": {
    "application/vnd.databricks.v1+cell": {
     "cellMetadata": {
      "byteLimit": 2048000,
      "rowLimit": 10000
     },
     "inputWidgets": {},
     "nuid": "c85ef3b0-bb05-4439-b4cd-19bec868a4bb",
     "showTitle": false,
     "tableResultSettingsMap": {},
     "title": ""
    }
   },
   "outputs": [],
   "source": [
    "#returns rows from left that have a match\n",
    "semi = df.join(loyalty_dim, on=\"loyalty_segment\", how=\"left_semi\")\n",
    "semi.show(5)\n"
   ]
  },
  {
   "cell_type": "code",
   "execution_count": 0,
   "metadata": {
    "application/vnd.databricks.v1+cell": {
     "cellMetadata": {
      "byteLimit": 2048000,
      "rowLimit": 10000
     },
     "inputWidgets": {},
     "nuid": "44fab741-aee2-484e-9535-89d3c4e2f30b",
     "showTitle": false,
     "tableResultSettingsMap": {},
     "title": ""
    }
   },
   "outputs": [],
   "source": [
    "anti = df.join(loyalty_dim, on=\"loyalty_segment\", how=\"left_anti\")\n",
    "anti.select(\"customer_id\",\"customer_name\",\"loyalty_segment\").show(5)\n"
   ]
  },
  {
   "cell_type": "code",
   "execution_count": 0,
   "metadata": {
    "application/vnd.databricks.v1+cell": {
     "cellMetadata": {
      "byteLimit": 2048000,
      "rowLimit": 10000
     },
     "inputWidgets": {},
     "nuid": "f8bd9f5f-82e7-47d9-9aed-c9db915b5c89",
     "showTitle": false,
     "tableResultSettingsMap": {},
     "title": ""
    }
   },
   "outputs": [],
   "source": [
    "from pyspark.sql.functions import broadcast\n",
    "\n",
    "# broadcast the small loyalty_dim\n",
    "bcast_joined = df.join(broadcast(loyalty_dim), on=\"loyalty_segment\", how=\"left\")\n",
    "bcast_joined.select(\"customer_id\",\"loyalty_segment\",\"loyalty_desc\").show(5)\n",
    "\n",
    "# see plan to confirm broadcast\n",
    "bcast_joined.explain()\n"
   ]
  },
  {
   "cell_type": "code",
   "execution_count": 0,
   "metadata": {
    "application/vnd.databricks.v1+cell": {
     "cellMetadata": {
      "byteLimit": 2048000,
      "rowLimit": 10000
     },
     "inputWidgets": {},
     "nuid": "b96b85cb-eecd-4f20-813d-ece84c54a1e2",
     "showTitle": false,
     "tableResultSettingsMap": {},
     "title": ""
    }
   },
   "outputs": [],
   "source": [
    "loyalty_dim_dedup = loyalty_dim.dropDuplicates([\"loyalty_segment\"])\n"
   ]
  },
  {
   "cell_type": "code",
   "execution_count": 0,
   "metadata": {
    "application/vnd.databricks.v1+cell": {
     "cellMetadata": {
      "byteLimit": 2048000,
      "rowLimit": 10000
     },
     "inputWidgets": {},
     "nuid": "10a2d800-6983-4b7a-8abd-ede82eff812b",
     "showTitle": false,
     "tableResultSettingsMap": {},
     "title": ""
    }
   },
   "outputs": [],
   "source": [
    "#mini problem\n",
    "\n",
    "#Create a small synthetic orders DataFrame by taking 300 customers from df and creating order_id and order_units (use monotonically_increasing_id() and random small ints).\n",
    "\n",
    "#a) Find top 10 customers by total order_units (group orders, sum).\n",
    "#b) Join the result with the customers df to get customer_name, state, and show top 10 with totals.\n",
    "\n",
    "#c) Find customers who exist in customers but do NOT have any orders (use left_anti join) and show 5 of them.\n",
    "\n",
    "from pyspark.sql.functions import monotonically_increasing_id, rand, floor, col, sum\n",
    "\n",
    "# build orders (example approach)\n",
    "sample_customers = df.select(\"customer_id\").limit(300)  # or sample\n",
    "orders = sample_customers.withColumn(\"order_id\", monotonically_increasing_id()) \\\n",
    "                         .withColumn(\"order_units\", (floor(rand()*10)+1).cast(\"int\"))\n",
    "\n",
    "# a) aggregate orders\n",
    "cust_orders = orders.groupBy(\"customer_id\").agg(sum(\"order_units\").alias(\"total_units\"))\n",
    "\n",
    "# b) join with customers to get name/state\n",
    "top10 = cust_orders.orderBy(col(\"total_units\").desc()).limit(10)\n",
    "top10_with_info = top10.join(df.select(\"customer_id\",\"customer_name\",\"state\"), on=\"customer_id\", how=\"left\")\n",
    "top10_with_info.show()\n",
    "\n",
    "# c) customers without orders\n",
    "no_orders = df.join(orders.select(\"customer_id\"), on=\"customer_id\", how=\"left_anti\")\n",
    "no_orders.show(5)\n"
   ]
  },
  {
   "cell_type": "code",
   "execution_count": 0,
   "metadata": {
    "application/vnd.databricks.v1+cell": {
     "cellMetadata": {
      "byteLimit": 2048000,
      "rowLimit": 10000
     },
     "inputWidgets": {},
     "nuid": "49e03003-143e-4c63-bf48-b5b7e6643467",
     "showTitle": false,
     "tableResultSettingsMap": {},
     "title": ""
    }
   },
   "outputs": [],
   "source": [
    "state = [r[\"state\"] for r in df.select(\"state\").distinct().collect()]\n",
    "state1 = [s for s in state if s in [\"CA\", \"NY\", \"TX\", \"FL\"]]\n",
    "state1\n",
    "region_map = {\n",
    "    \"CA\": \"West Coast\",\n",
    "    \"NY\": \"East Coast\",\n",
    "    \"TX\": \"South Central\",\n",
    "    \"FL\": \"South East\"\n",
    "}\n",
    "\n",
    "dim_data =[]\n",
    "for s in state1:\n",
    "    region=region_map[s]\n",
    "    dim_data.append((s, region))\n",
    "\n",
    "dim_data"
   ]
  },
  {
   "cell_type": "code",
   "execution_count": 0,
   "metadata": {
    "application/vnd.databricks.v1+cell": {
     "cellMetadata": {
      "byteLimit": 2048000,
      "rowLimit": 10000
     },
     "inputWidgets": {},
     "nuid": "49e2fa30-71e2-4b1a-a8d1-eb460a0ebcfa",
     "showTitle": false,
     "tableResultSettingsMap": {},
     "title": ""
    }
   },
   "outputs": [],
   "source": [
    "state_dim = spark.createDataFrame(dim_data, [\"state\",\"region_name\"])\n",
    "\n"
   ]
  },
  {
   "cell_type": "code",
   "execution_count": 0,
   "metadata": {
    "application/vnd.databricks.v1+cell": {
     "cellMetadata": {
      "byteLimit": 2048000,
      "rowLimit": 10000
     },
     "inputWidgets": {},
     "nuid": "233f7738-faf3-4fed-8abf-18148e86f94a",
     "showTitle": false,
     "tableResultSettingsMap": {},
     "title": ""
    }
   },
   "outputs": [],
   "source": [
    "inner_joined1 = df.join(state_dim, on = \"state\",how = \"inner\")\n",
    "inner_joined1.select(\"customer_id\",\"region_name\").show(5)\n",
    "print(\"Total inner join rows are:\",inner_joined1.count())\n",
    "\n",
    "\n",
    "left_joined1 = df.join(state_dim, on = \"state\",how = \"left\")\n",
    "left_joined1.select(\"customer_id\",\"region_name\").show(5)\n",
    "print(\"Total left join rows are:\",left_joined1.count())\n",
    "\n",
    "\n",
    "left_anti_joined1 = df.join(state_dim, on = \"state\",how = \"left_anti\")\n",
    "left_anti_joined1.select(\"customer_id\",\"state\").show(5)\n",
    "print(\"Total left anti join rows are:\",left_anti_joined1.count())\n"
   ]
  }
 ],
 "metadata": {
  "application/vnd.databricks.v1+notebook": {
   "computePreferences": {
    "hardware": {
     "accelerator": null,
     "gpuPoolId": null,
     "memory": null
    }
   },
   "dashboards": [],
   "environmentMetadata": {
    "base_environment": "",
    "environment_version": "3"
   },
   "inputWidgetPreferences": null,
   "language": "python",
   "notebookMetadata": {
    "pythonIndentUnit": 4
   },
   "notebookName": "day01_intro",
   "widgets": {}
  },
  "language_info": {
   "name": "python"
  }
 },
 "nbformat": 4,
 "nbformat_minor": 0
}
