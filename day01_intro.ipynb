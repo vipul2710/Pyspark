{
 "cells": [
  {
   "cell_type": "code",
   "execution_count": 0,
   "metadata": {
    "application/vnd.databricks.v1+cell": {
     "cellMetadata": {
      "byteLimit": 2048000,
      "rowLimit": 10000
     },
     "inputWidgets": {},
     "nuid": "00b9dd10-4032-428c-89d6-9c5247ac71e6",
     "showTitle": false,
     "tableResultSettingsMap": {},
     "title": ""
    }
   },
   "outputs": [],
   "source": [
    "#confirm spark or create one\n",
    "try:\n",
    "    print(\"spark exists. Spark version:\", spark.version)\n",
    "except NameError:\n",
    "    from pyspark.sql import SparkSession\n",
    "    spark = SparkSession.builder.appName(\"pyspark-scaffold-day1\").getOrCreate()\n",
    "    print(\"Created SparkSession. Spark version:\", spark.version)\n"
   ]
  },
  {
   "cell_type": "code",
   "execution_count": 0,
   "metadata": {
    "application/vnd.databricks.v1+cell": {
     "cellMetadata": {
      "byteLimit": 2048000,
      "rowLimit": 10000
     },
     "inputWidgets": {},
     "nuid": "f439ad2e-194f-4ea1-91bf-03f0a8414c42",
     "showTitle": false,
     "tableResultSettingsMap": {},
     "title": ""
    }
   },
   "outputs": [],
   "source": [
    "# - read sample dataset\n",
    "df = spark.read.csv(\"/databricks-datasets/retail-org/customers/customers.csv\",\n",
    "                    header=True, inferSchema=True)\n",
    "\n",
    "df.printSchema()\n",
    "df.show(5)\n",
    "print(\"Row count (sample):\", df.count())\n"
   ]
  },
  {
   "cell_type": "code",
   "execution_count": 0,
   "metadata": {
    "application/vnd.databricks.v1+cell": {
     "cellMetadata": {
      "byteLimit": 2048000,
      "rowLimit": 10000
     },
     "inputWidgets": {},
     "nuid": "bd8820d4-66a1-43fd-9f8c-0565f7e37105",
     "showTitle": false,
     "tableResultSettingsMap": {},
     "title": ""
    }
   },
   "outputs": [],
   "source": [
    "# Show all column names\n",
    "print(df.columns)\n",
    "\n",
    "# Show row count & summary stats for numeric columns\n",
    "#df.describe().show()\n"
   ]
  },
  {
   "cell_type": "code",
   "execution_count": 0,
   "metadata": {
    "application/vnd.databricks.v1+cell": {
     "cellMetadata": {
      "byteLimit": 2048000,
      "rowLimit": 10000
     },
     "inputWidgets": {},
     "nuid": "296383f6-cbfe-4d37-9b65-f3ec2b9db03f",
     "showTitle": false,
     "tableResultSettingsMap": {},
     "title": ""
    }
   },
   "outputs": [],
   "source": [
    "df.select(\"customer_id\", \"customer_name\", \"city\", \"state\").show(5)\n",
    "\n",
    "df2 = df.withColumnRenamed(\"customer_id\", \"cust_id\")\n",
    "df2.select(\"cust_id\", \"customer_name\").show(5)\n"
   ]
  },
  {
   "cell_type": "code",
   "execution_count": 0,
   "metadata": {
    "application/vnd.databricks.v1+cell": {
     "cellMetadata": {
      "byteLimit": 2048000,
      "rowLimit": 10000
     },
     "inputWidgets": {},
     "nuid": "8abaf440-4bab-49d5-8824-869e6442f653",
     "showTitle": false,
     "tableResultSettingsMap": {},
     "title": ""
    }
   },
   "outputs": [],
   "source": [
    "from pyspark.sql.functions import col, length, upper\n",
    "\n",
    "# length of customer name\n",
    "df3 = df.withColumn(\"name_length\", length(col(\"customer_name\")))\n",
    "\n",
    "# uppercase city\n",
    "df3 = df3.withColumn(\"city_upper\", upper(col(\"city\")))\n",
    "\n",
    "df3.select(\"customer_name\", \"city\", \"city_upper\", \"name_length\").show(5)\n"
   ]
  },
  {
   "cell_type": "code",
   "execution_count": 0,
   "metadata": {
    "application/vnd.databricks.v1+cell": {
     "cellMetadata": {
      "byteLimit": 2048000,
      "rowLimit": 10000
     },
     "inputWidgets": {},
     "nuid": "2b477c3a-d294-4f54-9d5e-a098536836c7",
     "showTitle": false,
     "tableResultSettingsMap": {},
     "title": ""
    }
   },
   "outputs": [],
   "source": [
    "# customers from California\n",
    "df.filter(col(\"state\") == \"CA\").show(5)\n",
    "\n",
    "# customers with more than 100 units purchased\n",
    "df.filter(col(\"units_purchased\") > 100).select(\"customer_name\", \"units_purchased\").show(5)\n"
   ]
  },
  {
   "cell_type": "code",
   "execution_count": 0,
   "metadata": {
    "application/vnd.databricks.v1+cell": {
     "cellMetadata": {
      "byteLimit": 2048000,
      "rowLimit": 10000
     },
     "inputWidgets": {},
     "nuid": "d9a378d5-099e-409b-bbbd-20e2ffd6fa79",
     "showTitle": false,
     "tableResultSettingsMap": {},
     "title": ""
    }
   },
   "outputs": [],
   "source": [
    "df.orderBy(col(\"units_purchased\").desc()).select(\"customer_name\", \"units_purchased\").show(10)\n"
   ]
  },
  {
   "cell_type": "code",
   "execution_count": 0,
   "metadata": {
    "application/vnd.databricks.v1+cell": {
     "cellMetadata": {
      "byteLimit": 2048000,
      "rowLimit": 10000
     },
     "inputWidgets": {},
     "nuid": "3d473240-a83e-41db-bff0-ce3cc4f98408",
     "showTitle": false,
     "tableResultSettingsMap": {},
     "title": ""
    }
   },
   "outputs": [],
   "source": [
    "# distinct states\n",
    "df.select(\"state\").distinct().show()\n",
    "\n",
    "# count customers per state\n",
    "df.groupBy(\"state\").count().orderBy(col(\"count\").desc()).show(10)\n"
   ]
  }
 ],
 "metadata": {
  "application/vnd.databricks.v1+notebook": {
   "computePreferences": {
    "hardware": {
     "accelerator": null,
     "gpuPoolId": null,
     "memory": null
    }
   },
   "dashboards": [],
   "environmentMetadata": {
    "base_environment": "",
    "environment_version": "3"
   },
   "inputWidgetPreferences": null,
   "language": "python",
   "notebookMetadata": {
    "pythonIndentUnit": 4
   },
   "notebookName": "day01_intro",
   "widgets": {}
  },
  "language_info": {
   "name": "python"
  }
 },
 "nbformat": 4,
 "nbformat_minor": 0
}
