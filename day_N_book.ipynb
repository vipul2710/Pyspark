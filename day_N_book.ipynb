{
 "cells": [
  {
   "cell_type": "code",
   "execution_count": 0,
   "metadata": {
    "application/vnd.databricks.v1+cell": {
     "cellMetadata": {
      "byteLimit": 2048000,
      "rowLimit": 10000
     },
     "inputWidgets": {},
     "nuid": "f7881e96-5dd8-405c-946d-eada1fb4f1b7",
     "showTitle": false,
     "tableResultSettingsMap": {},
     "title": ""
    }
   },
   "outputs": [],
   "source": [
    "data = [\n",
    "  {\"DEST_COUNTRY_NAME\": \"United States\", \"ORIGIN_COUNTRY_NAME\": \"Romania\", \"count\": 1},\n",
    "  {\"DEST_COUNTRY_NAME\": \"United States\", \"ORIGIN_COUNTRY_NAME\": \"Ireland\", \"count\": 344},\n",
    "  {\"DEST_COUNTRY_NAME\": \"United States\", \"ORIGIN_COUNTRY_NAME\": \"India\", \"count\": 500},\n",
    "  {\"DEST_COUNTRY_NAME\": \"Egypt\", \"ORIGIN_COUNTRY_NAME\": \"United States\", \"count\": 15},\n",
    "  {\"DEST_COUNTRY_NAME\": \"United States\", \"ORIGIN_COUNTRY_NAME\": \"Singapore\", \"count\": 1},\n",
    "  {\"DEST_COUNTRY_NAME\": \"United States\", \"ORIGIN_COUNTRY_NAME\": \"Grenada\", \"count\": 62},\n",
    "  {\"DEST_COUNTRY_NAME\": \"Costa Rica\", \"ORIGIN_COUNTRY_NAME\": \"United States\", \"count\": 210},\n",
    "  {\"DEST_COUNTRY_NAME\": \"Senegal\", \"ORIGIN_COUNTRY_NAME\": \"United States\", \"count\": 40},\n",
    "  {\"DEST_COUNTRY_NAME\": \"United States\", \"ORIGIN_COUNTRY_NAME\": \"China\", \"count\": 567},\n",
    "  {\"DEST_COUNTRY_NAME\": \"United States\", \"ORIGIN_COUNTRY_NAME\": \"Colombia\", \"count\": 120},\n",
    "  {\"DEST_COUNTRY_NAME\": \"United States\", \"ORIGIN_COUNTRY_NAME\": \"Italy\", \"count\": 321},\n",
    "  {\"DEST_COUNTRY_NAME\": \"United States\", \"ORIGIN_COUNTRY_NAME\": \"Japan\", \"count\": 780},\n",
    "  {\"DEST_COUNTRY_NAME\": \"United States\", \"ORIGIN_COUNTRY_NAME\": \"Mexico\", \"count\": 1550},\n",
    "  {\"DEST_COUNTRY_NAME\": \"Mexico\", \"ORIGIN_COUNTRY_NAME\": \"United States\", \"count\": 1420},\n",
    "  {\"DEST_COUNTRY_NAME\": \"United States\", \"ORIGIN_COUNTRY_NAME\": \"Canada\", \"count\": 1100},\n",
    "  {\"DEST_COUNTRY_NAME\": \"Canada\", \"ORIGIN_COUNTRY_NAME\": \"United States\", \"count\": 980},\n",
    "  {\"DEST_COUNTRY_NAME\": \"France\", \"ORIGIN_COUNTRY_NAME\": \"United States\", \"count\": 850},\n",
    "  {\"DEST_COUNTRY_NAME\": \"United States\", \"ORIGIN_COUNTRY_NAME\": \"France\", \"count\": 820},\n",
    "  {\"DEST_COUNTRY_NAME\": \"United States\", \"ORIGIN_COUNTRY_NAME\": \"Brazil\", \"count\": 720},\n",
    "  {\"DEST_COUNTRY_NAME\": \"Brazil\", \"ORIGIN_COUNTRY_NAME\": \"United States\", \"count\": 690},\n",
    "  {\"DEST_COUNTRY_NAME\": \"United States\", \"ORIGIN_COUNTRY_NAME\": \"Germany\", \"count\": 660},\n",
    "  {\"DEST_COUNTRY_NAME\": \"Germany\", \"ORIGIN_COUNTRY_NAME\": \"United States\", \"count\": 640},\n",
    "  {\"DEST_COUNTRY_NAME\": \"United States\", \"ORIGIN_COUNTRY_NAME\": \"United Kingdom\", \"count\": 1200},\n",
    "  {\"DEST_COUNTRY_NAME\": \"United Kingdom\", \"ORIGIN_COUNTRY_NAME\": \"United States\", \"count\": 1180},\n",
    "  {\"DEST_COUNTRY_NAME\": \"Spain\", \"ORIGIN_COUNTRY_NAME\": \"United States\", \"count\": 580},\n",
    "  {\"DEST_COUNTRY_NAME\": \"United States\", \"ORIGIN_COUNTRY_NAME\": \"Spain\", \"count\": 600},\n",
    "  {\"DEST_COUNTRY_NAME\": \"United States\", \"ORIGIN_COUNTRY_NAME\": \"Australia\", \"count\": 510},\n",
    "  {\"DEST_COUNTRY_NAME\": \"Australia\", \"ORIGIN_COUNTRY_NAME\": \"United States\", \"count\": 495},\n",
    "  {\"DEST_COUNTRY_NAME\": \"United States\", \"ORIGIN_COUNTRY_NAME\": \"Chile\", \"count\": 230},\n",
    "  {\"DEST_COUNTRY_NAME\": \"Chile\", \"ORIGIN_COUNTRY_NAME\": \"United States\", \"count\": 220},\n",
    "  {\"DEST_COUNTRY_NAME\": \"United States\", \"ORIGIN_COUNTRY_NAME\": \"Sweden\", \"count\": 190},\n",
    "  {\"DEST_COUNTRY_NAME\": \"Sweden\", \"ORIGIN_COUNTRY_NAME\": \"United States\", \"count\": 185},\n",
    "  {\"DEST_COUNTRY_NAME\": \"Norway\", \"ORIGIN_COUNTRY_NAME\": \"United States\", \"count\": 170},\n",
    "  {\"DEST_COUNTRY_NAME\": \"United States\", \"ORIGIN_COUNTRY_NAME\": \"Norway\", \"count\": 175},\n",
    "  {\"DEST_COUNTRY_NAME\": \"United States\", \"ORIGIN_COUNTRY_NAME\": \"Switzerland\", \"count\": 160},\n",
    "  {\"DEST_COUNTRY_NAME\": \"Switzerland\", \"ORIGIN_COUNTRY_NAME\": \"United States\", \"count\": 155},\n",
    "  {\"DEST_COUNTRY_NAME\": \"Netherlands\", \"ORIGIN_COUNTRY_NAME\": \"United States\", \"count\": 145},\n",
    "  {\"DEST_COUNTRY_NAME\": \"United States\", \"ORIGIN_COUNTRY_NAME\": \"Netherlands\", \"count\": 150},\n",
    "  {\"DEST_COUNTRY_NAME\": \"Belgium\", \"ORIGIN_COUNTRY_NAME\": \"United States\", \"count\": 140},\n",
    "  {\"DEST_COUNTRY_NAME\": \"United States\", \"ORIGIN_COUNTRY_NAME\": \"Belgium\", \"count\": 135},\n",
    "  {\"DEST_COUNTRY_NAME\": \"United States\", \"ORIGIN_COUNTRY_NAME\": \"Argentina\", \"count\": 125},\n",
    "  {\"DEST_COUNTRY_NAME\": \"Argentina\", \"ORIGIN_COUNTRY_NAME\": \"United States\", \"count\": 130},\n",
    "  {\"DEST_COUNTRY_NAME\": \"United States\", \"ORIGIN_COUNTRY_NAME\": \"Russia\", \"count\": 115},\n",
    "  {\"DEST_COUNTRY_NAME\": \"Russia\", \"ORIGIN_COUNTRY_NAME\": \"United States\", \"count\": 120},\n",
    "  {\"DEST_COUNTRY_NAME\": \"United States\", \"ORIGIN_COUNTRY_NAME\": \"South Korea\", \"count\": 105},\n",
    "  {\"DEST_COUNTRY_NAME\": \"South Korea\", \"ORIGIN_COUNTRY_NAME\": \"United States\", \"count\": 110},\n",
    "  {\"DEST_COUNTRY_NAME\": \"United States\", \"ORIGIN_COUNTRY_NAME\": \"South Africa\", \"count\": 95},\n",
    "  {\"DEST_COUNTRY_NAME\": \"South Africa\", \"ORIGIN_COUNTRY_NAME\": \"United States\", \"count\": 90},\n",
    "  {\"DEST_COUNTRY_NAME\": \"United States\", \"ORIGIN_COUNTRY_NAME\": \"Turkey\", \"count\": 85},\n",
    "  {\"DEST_COUNTRY_NAME\": \"Turkey\", \"ORIGIN_COUNTRY_NAME\": \"United States\", \"count\": 80}\n",
    "]\n"
   ]
  },
  {
   "cell_type": "code",
   "execution_count": 0,
   "metadata": {
    "application/vnd.databricks.v1+cell": {
     "cellMetadata": {
      "byteLimit": 2048000,
      "rowLimit": 10000
     },
     "inputWidgets": {},
     "nuid": "3d3f5c09-8390-44d0-8bc2-a53130d8048a",
     "showTitle": false,
     "tableResultSettingsMap": {},
     "title": ""
    }
   },
   "outputs": [],
   "source": [
    "df = spark.createDataFrame(data)\n",
    "df.printSchema()\n",
    "df.show(10)\n"
   ]
  },
  {
   "cell_type": "code",
   "execution_count": 0,
   "metadata": {
    "application/vnd.databricks.v1+cell": {
     "cellMetadata": {
      "byteLimit": 2048000,
      "rowLimit": 10000
     },
     "inputWidgets": {},
     "nuid": "bae895f7-a20a-4546-93be-78e8751f60f6",
     "showTitle": false,
     "tableResultSettingsMap": {},
     "title": ""
    }
   },
   "outputs": [],
   "source": [
    "# use col or columns for referring columns\n",
    "from pyspark.sql.functions import col, column\n",
    "df.columns\n",
    "df.first()"
   ]
  },
  {
   "cell_type": "code",
   "execution_count": 0,
   "metadata": {
    "application/vnd.databricks.v1+cell": {
     "cellMetadata": {
      "byteLimit": 2048000,
      "rowLimit": 10000
     },
     "inputWidgets": {},
     "nuid": "f41f60ca-64be-4ce0-acdf-84f0035dee71",
     "showTitle": false,
     "tableResultSettingsMap": {},
     "title": ""
    }
   },
   "outputs": [],
   "source": [
    "#creating row\n",
    "from pyspark.sql import Row\n",
    "myRow = Row(\"Hello\", None, 1, False)\n",
    "myRow\n",
    "\n",
    "myRow[0]"
   ]
  },
  {
   "cell_type": "code",
   "execution_count": 0,
   "metadata": {
    "application/vnd.databricks.v1+cell": {
     "cellMetadata": {
      "byteLimit": 2048000,
      "rowLimit": 10000
     },
     "inputWidgets": {},
     "nuid": "6e38c5ac-c989-49e4-8f46-099f42397552",
     "showTitle": false,
     "tableResultSettingsMap": {},
     "title": ""
    }
   },
   "outputs": [],
   "source": [
    "#data frame transformations\n",
    "#takeing rows and converting into DF\n",
    "from pyspark.sql import Row\n",
    "from pyspark.sql.types import StructField, StructType, StringType, LongType\n",
    "myManualSchema = StructType([\n",
    "StructField(\"some\", StringType(), True),\n",
    "StructField(\"col\", StringType(), True),\n",
    "StructField(\"names\", LongType(), False)\n",
    "])\n",
    "myRow = Row(\"Hello\", None, 1)\n",
    "myDf = spark.createDataFrame([myRow], myManualSchema)\n",
    "myDf.show()\n",
    "\n",
    "\n"
   ]
  },
  {
   "cell_type": "code",
   "execution_count": 0,
   "metadata": {
    "application/vnd.databricks.v1+cell": {
     "cellMetadata": {
      "byteLimit": 2048000,
      "rowLimit": 10000
     },
     "inputWidgets": {},
     "nuid": "25b27a86-7ef1-4213-8f73-ec213e0892ec",
     "showTitle": false,
     "tableResultSettingsMap": {},
     "title": ""
    }
   },
   "outputs": [],
   "source": [
    "df.select(\"DEST_COUNTRY_NAME\",\"ORIGIN_COUNTRY_NAME\").show(2)"
   ]
  },
  {
   "cell_type": "code",
   "execution_count": 0,
   "metadata": {
    "application/vnd.databricks.v1+cell": {
     "cellMetadata": {
      "byteLimit": 2048000,
      "rowLimit": 10000
     },
     "inputWidgets": {},
     "nuid": "5b3d96ce-9ad3-4745-831f-bae54c75a6db",
     "showTitle": false,
     "tableResultSettingsMap": {},
     "title": ""
    }
   },
   "outputs": [],
   "source": [
    "from pyspark.sql.functions import expr, col, column\n",
    "df.select(\n",
    "expr(\"DEST_COUNTRY_NAME\"),\n",
    "col(\"DEST_COUNTRY_NAME\"),\n",
    "column(\"DEST_COUNTRY_NAME\"))\\\n",
    ".show(2)"
   ]
  },
  {
   "cell_type": "code",
   "execution_count": 0,
   "metadata": {
    "application/vnd.databricks.v1+cell": {
     "cellMetadata": {
      "byteLimit": 2048000,
      "rowLimit": 10000
     },
     "inputWidgets": {},
     "nuid": "839ff304-a0cd-4b77-86bd-3ef29675a5c5",
     "showTitle": false,
     "tableResultSettingsMap": {},
     "title": ""
    }
   },
   "outputs": [],
   "source": [
    "df.select(expr(\"DEST_COUNTRY_NAME AS destination\")).show(2)\n",
    "df.select(expr(\"DEST_COUNTRY_NAME as destination\").alias(\"DEST_COUNTRY_NAME\")).show(2)\n",
    "\n",
    "#defining new column name\n",
    "df.selectExpr(\"DEST_COUNTRY_NAME as newColumnName\", \"DEST_COUNTRY_NAME\").show(2)\n",
    "\n",
    "df.selectExpr(\n",
    "\"*\", # all original columns\n",
    "\"(DEST_COUNTRY_NAME = ORIGIN_COUNTRY_NAME) as withinCountry\")\\\n",
    ".show(2)\n",
    "\n",
    "\n"
   ]
  },
  {
   "cell_type": "code",
   "execution_count": 0,
   "metadata": {
    "application/vnd.databricks.v1+cell": {
     "cellMetadata": {
      "byteLimit": 2048000,
      "rowLimit": 10000
     },
     "collapsed": true,
     "inputWidgets": {},
     "nuid": "0120b267-4c1b-424f-8276-a7d3a374697d",
     "showTitle": false,
     "tableResultSettingsMap": {},
     "title": ""
    }
   },
   "outputs": [],
   "source": [
    "#Selectexpr can also help in doing aggregations\n",
    "df.selectExpr(\"avg(count)\", \"count(distinct(DEST_COUNTRY_NAME))\").show(2)"
   ]
  },
  {
   "cell_type": "code",
   "execution_count": 0,
   "metadata": {
    "application/vnd.databricks.v1+cell": {
     "cellMetadata": {
      "byteLimit": 2048000,
      "rowLimit": 10000
     },
     "inputWidgets": {},
     "nuid": "7da52510-8a63-4b5a-bdd7-eec8d878adf9",
     "showTitle": false,
     "tableResultSettingsMap": {},
     "title": ""
    }
   },
   "outputs": [],
   "source": [
    "#add column using withcolumn\n",
    "from pyspark.sql.functions import lit\n",
    "df.withColumn(\"newCol\", expr(\"DEST_COUNTRY_NAME\")).show(2)\n",
    "df.withColumn(\"numberOne\", lit(1)).show(2)\n",
    "#rename column\n",
    "#df.withColumnRenamed(\"DEST_COUNTRY_NAME\")\n",
    "\n",
    "df.withColumn(\"withinCountry\", expr(\"ORIGIN_COUNTRY_NAME == DEST_COUNTRY_NAME\"))\\\n",
    ".show(2)"
   ]
  },
  {
   "cell_type": "code",
   "execution_count": 0,
   "metadata": {
    "application/vnd.databricks.v1+cell": {
     "cellMetadata": {
      "byteLimit": 2048000,
      "rowLimit": 10000
     },
     "inputWidgets": {},
     "nuid": "02647c1f-a6c2-484b-9e2a-7b82dc10d518",
     "showTitle": false,
     "tableResultSettingsMap": {},
     "title": ""
    }
   },
   "outputs": [],
   "source": [
    "#Renaming column\n",
    "df.withColumnRenamed(\"DEST_COUNTRY_NAME\", \"dest\").columns\n",
    "df.drop(\"DEST_COUNTRY_NAME\").columns\n",
    "#changing column type cast\n",
    "df.withColumn(\"count2\", col(\"count\").cast(\"long\"))"
   ]
  },
  {
   "cell_type": "code",
   "execution_count": 0,
   "metadata": {
    "application/vnd.databricks.v1+cell": {
     "cellMetadata": {
      "byteLimit": 2048000,
      "rowLimit": 10000
     },
     "inputWidgets": {},
     "nuid": "fc6e30b5-5a8c-43be-94e2-60bc5c5a66aa",
     "showTitle": false,
     "tableResultSettingsMap": {},
     "title": ""
    }
   },
   "outputs": [],
   "source": [
    "#filtering rows\n",
    "df.where(col(\"count\")<2).where(col(\"ORIGIN_COUNTRY_NAME\") != \"Croatia\").show(5)\n",
    "\n",
    "#unique rows\n",
    "df.select(\"DEST_COUNTRY_NAME\",\"ORIGIN_COUNTRY_NAME\").distinct().count()\n"
   ]
  },
  {
   "cell_type": "code",
   "execution_count": 0,
   "metadata": {
    "application/vnd.databricks.v1+cell": {
     "cellMetadata": {
      "byteLimit": 2048000,
      "rowLimit": 10000
     },
     "inputWidgets": {},
     "nuid": "e1c20fec-1567-4524-a631-7d3b127bf59c",
     "showTitle": false,
     "tableResultSettingsMap": {},
     "title": ""
    }
   },
   "outputs": [],
   "source": [
    "df.sort(\"count\").show(5)\n",
    "df.orderBy(\"count\", \"DEST_COUNTRY_NAME\").show(5)\n",
    "df.orderBy(col(\"count\"), col(\"DEST_COUNTRY_NAME\")).show(5)\n",
    "\n",
    "df.orderBy(col(\"count\").desc(), col(\"DEST_COUNTRY_NAME\").asc()).show(2)\n",
    "\n",
    "#sort with partition but discussed later\n"
   ]
  }
 ],
 "metadata": {
  "application/vnd.databricks.v1+notebook": {
   "computePreferences": null,
   "dashboards": [],
   "environmentMetadata": {
    "base_environment": "",
    "environment_version": "3"
   },
   "inputWidgetPreferences": null,
   "language": "python",
   "notebookMetadata": {
    "pythonIndentUnit": 4
   },
   "notebookName": "day_N_book",
   "widgets": {}
  },
  "language_info": {
   "name": "python"
  }
 },
 "nbformat": 4,
 "nbformat_minor": 0
}
